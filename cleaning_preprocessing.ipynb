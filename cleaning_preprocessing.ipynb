{
 "cells": [
  {
   "cell_type": "markdown",
   "id": "59251cb3-ff54-4502-a69a-470aa76f0a80",
   "metadata": {},
   "source": [
    "## Cleaning"
   ]
  },
  {
   "cell_type": "code",
   "execution_count": 3,
   "id": "7d1510d9-2497-42f9-94c9-bcd0d875bd8c",
   "metadata": {},
   "outputs": [],
   "source": [
    "import pandas as pd\n",
    "import numpy as np"
   ]
  },
  {
   "cell_type": "code",
   "execution_count": 4,
   "id": "5d2b04c4-06be-47ee-97d0-1e7bdb205ca0",
   "metadata": {},
   "outputs": [],
   "source": [
    "raw = pd.read_csv(\"databases/raw.csv\")"
   ]
  },
  {
   "cell_type": "code",
   "execution_count": 5,
   "id": "0dd6c859-608b-45f9-aa9f-64f94ae97ebd",
   "metadata": {},
   "outputs": [
    {
     "data": {
      "text/plain": [
       "array(['Makrakomi, Greece', 'Lytton, BC', 'New York City, USA',\n",
       "       'Port-au-prince, Haiti', 'Suva, Fiji', 'Texas, United States',\n",
       "       'Bad Neuenahr-Ahrweiler, Germany', 'Verhoyansk, Russia',\n",
       "       'Cizre, Turkey', 'Zhengzhou, China', 'Sicily, Italy',\n",
       "       'Kupang, Indonesia', 'Madrid, Spain', 'Qaanaaq, Greenland',\n",
       "       'New Orleans, USA'], dtype=object)"
      ]
     },
     "execution_count": 5,
     "metadata": {},
     "output_type": "execute_result"
    }
   ],
   "source": [
    "raw['name'].unique()"
   ]
  },
  {
   "cell_type": "code",
   "execution_count": 6,
   "id": "6e97acbb-a9eb-4d23-a07c-07a12b68a779",
   "metadata": {
    "tags": []
   },
   "outputs": [
    {
     "data": {
      "text/plain": [
       "name                 object\n",
       "datetime             object\n",
       "tempmax             float64\n",
       "tempmin             float64\n",
       "temp                float64\n",
       "humidity            float64\n",
       "precip              float64\n",
       "precipcover         float64\n",
       "snow                float64\n",
       "snowdepth           float64\n",
       "windgust            float64\n",
       "windspeed           float64\n",
       "sealevelpressure    float64\n",
       "severerisk          float64\n",
       "dtype: object"
      ]
     },
     "execution_count": 6,
     "metadata": {},
     "output_type": "execute_result"
    }
   ],
   "source": [
    "raw.dtypes "
   ]
  },
  {
   "cell_type": "markdown",
   "id": "bfc689ec-6986-49ec-a08f-1a604ac4c41f",
   "metadata": {},
   "source": [
    "#### what percentage is NaN?"
   ]
  },
  {
   "cell_type": "code",
   "execution_count": 7,
   "id": "3ed2cb75-b7dc-449a-8c37-42e7c568615b",
   "metadata": {},
   "outputs": [
    {
     "data": {
      "text/html": [
       "<div>\n",
       "<style scoped>\n",
       "    .dataframe tbody tr th:only-of-type {\n",
       "        vertical-align: middle;\n",
       "    }\n",
       "\n",
       "    .dataframe tbody tr th {\n",
       "        vertical-align: top;\n",
       "    }\n",
       "\n",
       "    .dataframe thead th {\n",
       "        text-align: right;\n",
       "    }\n",
       "</style>\n",
       "<table border=\"1\" class=\"dataframe\">\n",
       "  <thead>\n",
       "    <tr style=\"text-align: right;\">\n",
       "      <th></th>\n",
       "      <th>Total</th>\n",
       "      <th>Percent</th>\n",
       "    </tr>\n",
       "  </thead>\n",
       "  <tbody>\n",
       "    <tr>\n",
       "      <th>snow</th>\n",
       "      <td>279435</td>\n",
       "      <td>1.000000</td>\n",
       "    </tr>\n",
       "    <tr>\n",
       "      <th>severerisk</th>\n",
       "      <td>279435</td>\n",
       "      <td>1.000000</td>\n",
       "    </tr>\n",
       "    <tr>\n",
       "      <th>snowdepth</th>\n",
       "      <td>252172</td>\n",
       "      <td>0.902435</td>\n",
       "    </tr>\n",
       "    <tr>\n",
       "      <th>windgust</th>\n",
       "      <td>245343</td>\n",
       "      <td>0.877997</td>\n",
       "    </tr>\n",
       "    <tr>\n",
       "      <th>precip</th>\n",
       "      <td>87897</td>\n",
       "      <td>0.314553</td>\n",
       "    </tr>\n",
       "    <tr>\n",
       "      <th>sealevelpressure</th>\n",
       "      <td>38441</td>\n",
       "      <td>0.137567</td>\n",
       "    </tr>\n",
       "    <tr>\n",
       "      <th>humidity</th>\n",
       "      <td>23525</td>\n",
       "      <td>0.084188</td>\n",
       "    </tr>\n",
       "    <tr>\n",
       "      <th>windspeed</th>\n",
       "      <td>23421</td>\n",
       "      <td>0.083816</td>\n",
       "    </tr>\n",
       "    <tr>\n",
       "      <th>tempmax</th>\n",
       "      <td>23357</td>\n",
       "      <td>0.083587</td>\n",
       "    </tr>\n",
       "    <tr>\n",
       "      <th>tempmin</th>\n",
       "      <td>23357</td>\n",
       "      <td>0.083587</td>\n",
       "    </tr>\n",
       "    <tr>\n",
       "      <th>temp</th>\n",
       "      <td>23357</td>\n",
       "      <td>0.083587</td>\n",
       "    </tr>\n",
       "    <tr>\n",
       "      <th>name</th>\n",
       "      <td>0</td>\n",
       "      <td>0.000000</td>\n",
       "    </tr>\n",
       "    <tr>\n",
       "      <th>datetime</th>\n",
       "      <td>0</td>\n",
       "      <td>0.000000</td>\n",
       "    </tr>\n",
       "    <tr>\n",
       "      <th>precipcover</th>\n",
       "      <td>0</td>\n",
       "      <td>0.000000</td>\n",
       "    </tr>\n",
       "  </tbody>\n",
       "</table>\n",
       "</div>"
      ],
      "text/plain": [
       "                   Total   Percent\n",
       "snow              279435  1.000000\n",
       "severerisk        279435  1.000000\n",
       "snowdepth         252172  0.902435\n",
       "windgust          245343  0.877997\n",
       "precip             87897  0.314553\n",
       "sealevelpressure   38441  0.137567\n",
       "humidity           23525  0.084188\n",
       "windspeed          23421  0.083816\n",
       "tempmax            23357  0.083587\n",
       "tempmin            23357  0.083587\n",
       "temp               23357  0.083587\n",
       "name                   0  0.000000\n",
       "datetime               0  0.000000\n",
       "precipcover            0  0.000000"
      ]
     },
     "execution_count": 7,
     "metadata": {},
     "output_type": "execute_result"
    }
   ],
   "source": [
    "#cleaning: null value replacement\n",
    "total = raw.isnull().sum().sort_values(ascending=False)\n",
    "\n",
    "percent = (raw.isnull().sum()/raw.isnull().count()).sort_values(ascending=False)\n",
    "\n",
    "missing_data = pd.concat([total,percent],axis=1, keys=['Total','Percent'])\n",
    "missing_data"
   ]
  },
  {
   "cell_type": "markdown",
   "id": "156be2d9-9150-468a-83b0-61b32d01f766",
   "metadata": {},
   "source": [
    "#### forward fill (one step) fill rest with zeros"
   ]
  },
  {
   "cell_type": "code",
   "execution_count": 8,
   "id": "77eff1cc-2860-4c3e-a187-5f94657ad413",
   "metadata": {},
   "outputs": [],
   "source": [
    "raw = raw.fillna(method='ffill')\n",
    "raw = raw.fillna(0)"
   ]
  },
  {
   "cell_type": "markdown",
   "id": "bb35eeee-d88b-47ce-963a-a149343c1ccb",
   "metadata": {},
   "source": [
    "#### from visual crossing weather dataset: concat on axis 1, drop columns with >90% missing data"
   ]
  },
  {
   "cell_type": "code",
   "execution_count": 9,
   "id": "21a7de33-5eee-44a3-92a3-c7892ced26e2",
   "metadata": {},
   "outputs": [],
   "source": [
    "#to concat the unique cities in axis 1 (right now they are in axis 0)\n",
    "uniqueNames = raw.name.unique()\n",
    "\n",
    "#create a data frame dictionary to store your data frames\n",
    "df_dict = {elem : pd.DataFrame() for elem in uniqueNames}\n",
    "\n",
    "for key in df_dict.keys():\n",
    "    df_dict[key] = raw[:][raw.name == key]\n",
    "    \n",
    "df = pd.concat(df_dict.values(), axis=1)\n",
    "df = df.apply(lambda x: pd.Series(x.dropna().values))\n",
    "df.drop(columns=['name','snow','severerisk'],inplace=True)"
   ]
  },
  {
   "cell_type": "code",
   "execution_count": 10,
   "id": "6a3ac320-b285-44ab-a313-e8c4e86b0af1",
   "metadata": {
    "tags": []
   },
   "outputs": [
    {
     "data": {
      "text/plain": [
       "Index(['datetime', 'tempmax', 'tempmin', 'temp', 'humidity', 'precip',\n",
       "       'precipcover', 'snowdepth', 'windgust', 'windspeed',\n",
       "       ...\n",
       "       'tempmax', 'tempmin', 'temp', 'humidity', 'precip', 'precipcover',\n",
       "       'snowdepth', 'windgust', 'windspeed', 'sealevelpressure'],\n",
       "      dtype='object', length=165)"
      ]
     },
     "execution_count": 10,
     "metadata": {},
     "output_type": "execute_result"
    }
   ],
   "source": [
    "df.columns"
   ]
  },
  {
   "cell_type": "markdown",
   "id": "147bdb72-a34f-4425-91f1-1eb9f87bce6f",
   "metadata": {},
   "source": [
    "#### save reconfigured dataset (rough)"
   ]
  },
  {
   "cell_type": "code",
   "execution_count": 11,
   "id": "886d1345-c70c-4ac1-b3d8-1916862d9137",
   "metadata": {},
   "outputs": [],
   "source": [
    "df.to_csv('databases/cities_rough.csv', index = False)"
   ]
  },
  {
   "cell_type": "markdown",
   "id": "6accf9ae-e82a-4abf-9b1e-8324fc03d4e3",
   "metadata": {},
   "source": [
    "#### import 'global avg temperature anomoly database from 1961-1990 average' as an extra feature (trend comparison)"
   ]
  },
  {
   "cell_type": "code",
   "execution_count": 12,
   "id": "ecdfad9c-e815-49a2-86d1-72ba382a65a8",
   "metadata": {},
   "outputs": [],
   "source": [
    "world_temp = pd.read_csv(\"databases/temperature-anomaly.csv\")"
   ]
  },
  {
   "cell_type": "markdown",
   "id": "c241f96d-36f4-4dbf-a311-bf8779ea0a2d",
   "metadata": {},
   "source": [
    "#### only use global temp from year 1970 forwards to concat with VC dataframe"
   ]
  },
  {
   "cell_type": "code",
   "execution_count": 14,
   "id": "e11a3968-90e4-44b2-ab3e-e0049709d531",
   "metadata": {},
   "outputs": [],
   "source": [
    "world_temp = world_temp.loc[(world_temp['Entity'] == 'Global') & (world_temp['Year'] > 1970),['Year', 'Median temperature anomaly from 1961-1990 average']]\n",
    "#shorten that name for easier use\n",
    "world_temp.rename(columns={'Median temperature anomaly from 1961-1990 average': 'avg_temp_global'}, inplace=True)"
   ]
  },
  {
   "cell_type": "code",
   "execution_count": 21,
   "id": "2ee6a2ef-154c-475c-8df3-4c0f1148d975",
   "metadata": {},
   "outputs": [],
   "source": [
    "#rough draft of cities, merge with world temp\n",
    "df_rough= pd.read_csv('databases/cities_rough.csv')"
   ]
  },
  {
   "cell_type": "markdown",
   "id": "796ffc73-912c-4f6a-bada-40b48289054b",
   "metadata": {},
   "source": [
    "#### merge dataframes"
   ]
  },
  {
   "cell_type": "code",
   "execution_count": 22,
   "id": "0a64cc63-cb6b-4e1c-b903-fe724ae2cd23",
   "metadata": {},
   "outputs": [],
   "source": [
    "#in order to merge world temp and city temp (on year)\n",
    "df_rough['datetime'] = df_rough['datetime'].astype('string')\n",
    "world_temp['Year'] = world_temp['Year'].astype('string')\n",
    "\n",
    "#only take year for merging purposes \n",
    "df_rough['year'] = df_rough['datetime'].str[:4]"
   ]
  },
  {
   "cell_type": "code",
   "execution_count": 23,
   "id": "9a3dd9ac-3fa4-49f1-b591-476b6b8b6894",
   "metadata": {},
   "outputs": [],
   "source": [
    "df_rough = df_rough.merge(world_temp, how='left', left_on='year', right_on='Year')"
   ]
  },
  {
   "cell_type": "code",
   "execution_count": 24,
   "id": "99401f06-8136-4374-af8e-09fb373aa659",
   "metadata": {},
   "outputs": [],
   "source": [
    "#contains NA values, drop\n",
    "df_rough.drop(columns=['Year'], inplace=True)\n",
    "df_rough.drop(df_rough.tail(1).index,inplace=True)"
   ]
  },
  {
   "cell_type": "code",
   "execution_count": 25,
   "id": "d581f038-3ad4-4323-bc28-58d475414547",
   "metadata": {},
   "outputs": [],
   "source": [
    "#input missing values: temp for 2020 was 0.98, 2021 was 0.85\n",
    "df_rough.loc[df_rough['year'] == '2020', 'avg_temp_global'] = 0.98\n",
    "df_rough.loc[df_rough['year'] == '2021', 'avg_temp_global'] = 0.85"
   ]
  },
  {
   "cell_type": "code",
   "execution_count": 52,
   "id": "f09367d6-fe6e-462c-a8f9-e1c9f88e2c1c",
   "metadata": {},
   "outputs": [],
   "source": [
    "df_rough.to_csv('databases/full_df_rough.csv', index = False)"
   ]
  },
  {
   "cell_type": "markdown",
   "id": "c096a68f-3a58-4f68-b62f-39da51d9ea04",
   "metadata": {},
   "source": [
    "#### make index datetime for ARIMA time series"
   ]
  },
  {
   "cell_type": "code",
   "execution_count": 26,
   "id": "0c328ccc-545c-467e-bcf8-66a551b900a6",
   "metadata": {},
   "outputs": [],
   "source": [
    "from datetime import datetime\n",
    "# load data\n",
    "def parse(x):\n",
    "    return datetime.strptime(x, '%Y-%m-%d')\n",
    "\n",
    "df_clean = pd.read_csv('databases/full_df_rough.csv',  parse_dates = ['datetime'], index_col=0, date_parser=parse)\n",
    "\n",
    "df_clean.index.name = 'date'\n"
   ]
  },
  {
   "cell_type": "code",
   "execution_count": 27,
   "id": "1f64b3f6-fab9-48c6-ba03-c2ea3065db25",
   "metadata": {},
   "outputs": [],
   "source": [
    "df_clean.to_csv('databases/full_df_clean.csv', index=False)"
   ]
  },
  {
   "cell_type": "code",
   "execution_count": 28,
   "id": "5ff0e3a4-96e3-4849-af69-ccb9a3c0180b",
   "metadata": {},
   "outputs": [],
   "source": [
    "#df_clean[df_clean.columns.drop(list(df_clean.filter(regex='14')))]\n"
   ]
  },
  {
   "cell_type": "code",
   "execution_count": 32,
   "id": "11b65e6b-4916-4e24-ba49-04e737f46c45",
   "metadata": {
    "tags": []
   },
   "outputs": [],
   "source": [
    "lytton = df_clean[['tempmax.1', 'tempmin.1', 'temp.1', 'humidity.1', 'precip.1', 'precipcover.1',\n",
    "       'snowdepth.1', 'windgust.1', 'windspeed.1', 'sealevelpressure.1','avg_temp_global']]"
   ]
  },
  {
   "cell_type": "code",
   "execution_count": 33,
   "id": "65e79ea8-e7f3-4038-ba33-0582c27c7d23",
   "metadata": {},
   "outputs": [
    {
     "data": {
      "text/html": [
       "<div>\n",
       "<style scoped>\n",
       "    .dataframe tbody tr th:only-of-type {\n",
       "        vertical-align: middle;\n",
       "    }\n",
       "\n",
       "    .dataframe tbody tr th {\n",
       "        vertical-align: top;\n",
       "    }\n",
       "\n",
       "    .dataframe thead th {\n",
       "        text-align: right;\n",
       "    }\n",
       "</style>\n",
       "<table border=\"1\" class=\"dataframe\">\n",
       "  <thead>\n",
       "    <tr style=\"text-align: right;\">\n",
       "      <th></th>\n",
       "      <th>tempmax.1</th>\n",
       "      <th>tempmin.1</th>\n",
       "      <th>temp.1</th>\n",
       "      <th>humidity.1</th>\n",
       "      <th>precip.1</th>\n",
       "      <th>precipcover.1</th>\n",
       "      <th>snowdepth.1</th>\n",
       "      <th>windgust.1</th>\n",
       "      <th>windspeed.1</th>\n",
       "      <th>sealevelpressure.1</th>\n",
       "      <th>avg_temp_global</th>\n",
       "    </tr>\n",
       "    <tr>\n",
       "      <th>date</th>\n",
       "      <th></th>\n",
       "      <th></th>\n",
       "      <th></th>\n",
       "      <th></th>\n",
       "      <th></th>\n",
       "      <th></th>\n",
       "      <th></th>\n",
       "      <th></th>\n",
       "      <th></th>\n",
       "      <th></th>\n",
       "      <th></th>\n",
       "    </tr>\n",
       "  </thead>\n",
       "  <tbody>\n",
       "    <tr>\n",
       "      <th>1971-01-01</th>\n",
       "      <td>18.0</td>\n",
       "      <td>3.7</td>\n",
       "      <td>9.8</td>\n",
       "      <td>76.8</td>\n",
       "      <td>0.00</td>\n",
       "      <td>0.00</td>\n",
       "      <td>0.0</td>\n",
       "      <td>18.4</td>\n",
       "      <td>13.0</td>\n",
       "      <td>1020.1</td>\n",
       "      <td>-0.186</td>\n",
       "    </tr>\n",
       "    <tr>\n",
       "      <th>1971-01-02</th>\n",
       "      <td>18.0</td>\n",
       "      <td>3.7</td>\n",
       "      <td>9.8</td>\n",
       "      <td>76.8</td>\n",
       "      <td>0.00</td>\n",
       "      <td>0.00</td>\n",
       "      <td>0.0</td>\n",
       "      <td>18.4</td>\n",
       "      <td>13.0</td>\n",
       "      <td>1020.1</td>\n",
       "      <td>-0.186</td>\n",
       "    </tr>\n",
       "    <tr>\n",
       "      <th>1971-01-03</th>\n",
       "      <td>18.0</td>\n",
       "      <td>3.7</td>\n",
       "      <td>9.8</td>\n",
       "      <td>76.8</td>\n",
       "      <td>0.00</td>\n",
       "      <td>0.00</td>\n",
       "      <td>0.0</td>\n",
       "      <td>18.4</td>\n",
       "      <td>13.0</td>\n",
       "      <td>1020.1</td>\n",
       "      <td>-0.186</td>\n",
       "    </tr>\n",
       "    <tr>\n",
       "      <th>1971-01-04</th>\n",
       "      <td>18.0</td>\n",
       "      <td>3.7</td>\n",
       "      <td>9.8</td>\n",
       "      <td>76.8</td>\n",
       "      <td>0.00</td>\n",
       "      <td>0.00</td>\n",
       "      <td>0.0</td>\n",
       "      <td>18.4</td>\n",
       "      <td>13.0</td>\n",
       "      <td>1020.1</td>\n",
       "      <td>-0.186</td>\n",
       "    </tr>\n",
       "    <tr>\n",
       "      <th>1971-01-05</th>\n",
       "      <td>18.0</td>\n",
       "      <td>3.7</td>\n",
       "      <td>9.8</td>\n",
       "      <td>76.8</td>\n",
       "      <td>0.00</td>\n",
       "      <td>0.00</td>\n",
       "      <td>0.0</td>\n",
       "      <td>18.4</td>\n",
       "      <td>13.0</td>\n",
       "      <td>1020.1</td>\n",
       "      <td>-0.186</td>\n",
       "    </tr>\n",
       "    <tr>\n",
       "      <th>...</th>\n",
       "      <td>...</td>\n",
       "      <td>...</td>\n",
       "      <td>...</td>\n",
       "      <td>...</td>\n",
       "      <td>...</td>\n",
       "      <td>...</td>\n",
       "      <td>...</td>\n",
       "      <td>...</td>\n",
       "      <td>...</td>\n",
       "      <td>...</td>\n",
       "      <td>...</td>\n",
       "    </tr>\n",
       "    <tr>\n",
       "      <th>2021-12-27</th>\n",
       "      <td>-20.0</td>\n",
       "      <td>-25.0</td>\n",
       "      <td>-22.1</td>\n",
       "      <td>62.3</td>\n",
       "      <td>0.00</td>\n",
       "      <td>0.00</td>\n",
       "      <td>27.0</td>\n",
       "      <td>33.5</td>\n",
       "      <td>19.5</td>\n",
       "      <td>1021.5</td>\n",
       "      <td>0.850</td>\n",
       "    </tr>\n",
       "    <tr>\n",
       "      <th>2021-12-28</th>\n",
       "      <td>-16.0</td>\n",
       "      <td>-22.0</td>\n",
       "      <td>-18.5</td>\n",
       "      <td>69.8</td>\n",
       "      <td>0.01</td>\n",
       "      <td>4.17</td>\n",
       "      <td>27.0</td>\n",
       "      <td>35.3</td>\n",
       "      <td>18.0</td>\n",
       "      <td>1019.3</td>\n",
       "      <td>0.850</td>\n",
       "    </tr>\n",
       "    <tr>\n",
       "      <th>2021-12-29</th>\n",
       "      <td>-15.0</td>\n",
       "      <td>-19.0</td>\n",
       "      <td>-17.2</td>\n",
       "      <td>67.9</td>\n",
       "      <td>0.00</td>\n",
       "      <td>0.00</td>\n",
       "      <td>27.0</td>\n",
       "      <td>35.3</td>\n",
       "      <td>22.0</td>\n",
       "      <td>1020.0</td>\n",
       "      <td>0.850</td>\n",
       "    </tr>\n",
       "    <tr>\n",
       "      <th>2021-12-30</th>\n",
       "      <td>-10.0</td>\n",
       "      <td>-16.0</td>\n",
       "      <td>-13.3</td>\n",
       "      <td>70.1</td>\n",
       "      <td>0.01</td>\n",
       "      <td>4.17</td>\n",
       "      <td>27.0</td>\n",
       "      <td>37.1</td>\n",
       "      <td>18.0</td>\n",
       "      <td>1012.7</td>\n",
       "      <td>0.850</td>\n",
       "    </tr>\n",
       "    <tr>\n",
       "      <th>2022-01-01</th>\n",
       "      <td>-2.0</td>\n",
       "      <td>-19.0</td>\n",
       "      <td>-11.9</td>\n",
       "      <td>69.1</td>\n",
       "      <td>0.05</td>\n",
       "      <td>8.33</td>\n",
       "      <td>26.0</td>\n",
       "      <td>82.0</td>\n",
       "      <td>62.0</td>\n",
       "      <td>1020.8</td>\n",
       "      <td>NaN</td>\n",
       "    </tr>\n",
       "  </tbody>\n",
       "</table>\n",
       "<p>18628 rows × 11 columns</p>\n",
       "</div>"
      ],
      "text/plain": [
       "            tempmax.1  tempmin.1  temp.1  humidity.1  precip.1  precipcover.1  \\\n",
       "date                                                                            \n",
       "1971-01-01       18.0        3.7     9.8        76.8      0.00           0.00   \n",
       "1971-01-02       18.0        3.7     9.8        76.8      0.00           0.00   \n",
       "1971-01-03       18.0        3.7     9.8        76.8      0.00           0.00   \n",
       "1971-01-04       18.0        3.7     9.8        76.8      0.00           0.00   \n",
       "1971-01-05       18.0        3.7     9.8        76.8      0.00           0.00   \n",
       "...               ...        ...     ...         ...       ...            ...   \n",
       "2021-12-27      -20.0      -25.0   -22.1        62.3      0.00           0.00   \n",
       "2021-12-28      -16.0      -22.0   -18.5        69.8      0.01           4.17   \n",
       "2021-12-29      -15.0      -19.0   -17.2        67.9      0.00           0.00   \n",
       "2021-12-30      -10.0      -16.0   -13.3        70.1      0.01           4.17   \n",
       "2022-01-01       -2.0      -19.0   -11.9        69.1      0.05           8.33   \n",
       "\n",
       "            snowdepth.1  windgust.1  windspeed.1  sealevelpressure.1  \\\n",
       "date                                                                   \n",
       "1971-01-01          0.0        18.4         13.0              1020.1   \n",
       "1971-01-02          0.0        18.4         13.0              1020.1   \n",
       "1971-01-03          0.0        18.4         13.0              1020.1   \n",
       "1971-01-04          0.0        18.4         13.0              1020.1   \n",
       "1971-01-05          0.0        18.4         13.0              1020.1   \n",
       "...                 ...         ...          ...                 ...   \n",
       "2021-12-27         27.0        33.5         19.5              1021.5   \n",
       "2021-12-28         27.0        35.3         18.0              1019.3   \n",
       "2021-12-29         27.0        35.3         22.0              1020.0   \n",
       "2021-12-30         27.0        37.1         18.0              1012.7   \n",
       "2022-01-01         26.0        82.0         62.0              1020.8   \n",
       "\n",
       "            avg_temp_global  \n",
       "date                         \n",
       "1971-01-01           -0.186  \n",
       "1971-01-02           -0.186  \n",
       "1971-01-03           -0.186  \n",
       "1971-01-04           -0.186  \n",
       "1971-01-05           -0.186  \n",
       "...                     ...  \n",
       "2021-12-27            0.850  \n",
       "2021-12-28            0.850  \n",
       "2021-12-29            0.850  \n",
       "2021-12-30            0.850  \n",
       "2022-01-01              NaN  \n",
       "\n",
       "[18628 rows x 11 columns]"
      ]
     },
     "execution_count": 33,
     "metadata": {},
     "output_type": "execute_result"
    }
   ],
   "source": [
    "lytton"
   ]
  },
  {
   "cell_type": "code",
   "execution_count": 35,
   "id": "1a097e4b-76fe-4b87-a56e-f9775f748590",
   "metadata": {},
   "outputs": [],
   "source": [
    "lytton.to_csv('databases/lytton.csv', index=True)"
   ]
  },
  {
   "cell_type": "code",
   "execution_count": null,
   "id": "d8544882-e437-48fa-9f95-7fd040317009",
   "metadata": {},
   "outputs": [],
   "source": []
  }
 ],
 "metadata": {
  "kernelspec": {
   "display_name": "lighthouse_labs",
   "language": "python",
   "name": "lighthouse_labs"
  },
  "language_info": {
   "codemirror_mode": {
    "name": "ipython",
    "version": 3
   },
   "file_extension": ".py",
   "mimetype": "text/x-python",
   "name": "python",
   "nbconvert_exporter": "python",
   "pygments_lexer": "ipython3",
   "version": "3.8.13"
  }
 },
 "nbformat": 4,
 "nbformat_minor": 5
}
